{
 "cells": [
  {
   "cell_type": "markdown",
   "metadata": {},
   "source": [
    "# Cifar Image Classification using PyTorch:\n",
    "##### Convolutional Neural Networks and Artificial Neural Networks"
   ]
  },
  {
   "cell_type": "markdown",
   "metadata": {},
   "source": [
    "#### imports "
   ]
  },
  {
   "cell_type": "code",
   "execution_count": 2,
   "metadata": {
    "id": "rDij31F8GpN0"
   },
   "outputs": [],
   "source": [
    "## torch imports and more...\n",
    "import torch\n",
    "import torch.nn as nn\n",
    "import torch.nn.functional as F\n",
    "import torchvision\n",
    "import torchvision.transforms as transforms\n",
    "import numpy as np\n",
    "import matplotlib.pyplot as plt\n",
    "from torch.utils.data import TensorDataset,DataLoader\n",
    "import numpy as np\n",
    "import matplotlib.pyplot as plt\n",
    "import pickle\n",
    "import os\n",
    "import seaborn as sn\n",
    "import matplotlib.pyplot as plt\n",
    "from sklearn.metrics import confusion_matrix\n",
    "import pandas as pd"
   ]
  },
  {
   "cell_type": "markdown",
   "metadata": {},
   "source": [
    "Downloading the data:"
   ]
  },
  {
   "cell_type": "code",
   "execution_count": 3,
   "metadata": {
    "colab": {
     "base_uri": "https://localhost:8080/",
     "height": 101,
     "referenced_widgets": [
      "d70f60e8c4e24810a0b56b345d5dbe0a",
      "288d4cf937f64db299652fe56202c8aa",
      "ba44100949ef4e7b97ccdbd9a28d3925",
      "06b74d92fbb34a67b7b5cbcbd5a1b65e",
      "caa877dae470489785393b14cc873fa9",
      "250a1d6a70f04e9a9683ac29e495cf99",
      "ee6b8eae86c64916be4da43d83332868",
      "e17c7a65d4b943d4a6899bd618216d57",
      "3aa9dd280f4a4fb5ba4a58649ac7fe62",
      "3fad824dd5104ade81db74526bcd3c5c",
      "99d8b0d8ca5e475594a2c596a3c57634"
     ]
    },
    "id": "ghZg16jxG3a4",
    "outputId": "bc959255-1ec1-43e4-bc44-905da1bb2485"
   },
   "outputs": [
    {
     "name": "stdout",
     "output_type": "stream",
     "text": [
      "Downloading https://www.cs.toronto.edu/~kriz/cifar-10-python.tar.gz to .\\cifar-10-python.tar.gz\n"
     ]
    },
    {
     "data": {
      "application/vnd.jupyter.widget-view+json": {
       "model_id": "33002e105e9d424fbd3a28b3db48b4f0",
       "version_major": 2,
       "version_minor": 0
      },
      "text/plain": [
       "  0%|          | 0/170498071 [00:00<?, ?it/s]"
      ]
     },
     "metadata": {},
     "output_type": "display_data"
    },
    {
     "name": "stdout",
     "output_type": "stream",
     "text": [
      "Extracting .\\cifar-10-python.tar.gz to .\n",
      "Files already downloaded and verified\n"
     ]
    }
   ],
   "source": [
    "\n",
    "training_data = torchvision.datasets.CIFAR10(root='.',train=True,transform=transforms.ToTensor(),download=True)\n",
    "testing_data = torchvision.datasets.CIFAR10(root='.',train=False,transform=transforms.ToTensor(),download=True)"
   ]
  },
  {
   "cell_type": "markdown",
   "metadata": {
    "id": "w3ua6CvjJjMn"
   },
   "source": [
    "Inspecting the data:"
   ]
  },
  {
   "cell_type": "code",
   "execution_count": 4,
   "metadata": {
    "colab": {
     "base_uri": "https://localhost:8080/"
    },
    "id": "T8Kc6Ev7HtYN",
    "outputId": "0bbd7907-417f-49ff-ed63-d6bc21359f6e"
   },
   "outputs": [
    {
     "data": {
      "text/plain": [
       "((50000, 32, 32, 3), (10000, 32, 32, 3), [6, 9, 9, 4, 1], [3, 8, 8, 0, 6])"
      ]
     },
     "execution_count": 4,
     "metadata": {},
     "output_type": "execute_result"
    }
   ],
   "source": [
    "training_data.data.shape,testing_data.data.shape,training_data.targets[:5],testing_data.targets[:5]"
   ]
  },
  {
   "cell_type": "code",
   "execution_count": 5,
   "metadata": {
    "id": "zfSoiVnUIDis"
   },
   "outputs": [],
   "source": [
    "num_classes=10\n",
    "training_data_loader =DataLoader(dataset=training_data,batch_size=256, shuffle=True)\n",
    "testing_data_loader = DataLoader(dataset=testing_data, batch_size=256,shuffle=False)"
   ]
  },
  {
   "cell_type": "markdown",
   "metadata": {},
   "source": [
    "Creating a CNN model.\n",
    "#####  CNN:"
   ]
  },
  {
   "cell_type": "code",
   "execution_count": 6,
   "metadata": {
    "colab": {
     "base_uri": "https://localhost:8080/"
    },
    "id": "aXU1qjB-QB6M",
    "outputId": "c5b1544d-7867-4ec6-c6ae-3460d6a3041e"
   },
   "outputs": [
    {
     "name": "stdout",
     "output_type": "stream",
     "text": [
      "cuda:0\n"
     ]
    }
   ],
   "source": [
    "class simple_convolutional_model(nn.Module):\n",
    "    def __init__(self,num_classes):\n",
    "        super(simple_convolutional_model,self).__init__()\n",
    "        ## layers\n",
    "        self.convolution1=nn.Conv2d(3,32,kernel_size=3,stride=2)\n",
    "        #self.convbatchnorm1=nn.BatchNorm2d(32)\n",
    "        self.convolution2=nn.Conv2d(32,64,kernel_size=3,stride=2)\n",
    "        #self.convbatchnorm2=nn.BatchNorm2d(64)   \n",
    "        self.convolution3=nn.Conv2d(64,128,kernel_size=3,stride=2)\n",
    "        self.convbatchnorm3=nn.BatchNorm2d(128)\n",
    "        self.fully_connected_1=nn.Linear(1152,600)\n",
    "        self.fully_connected_final=nn.Linear(600,num_classes)\n",
    "        ## FORWARD\n",
    "    def forward(self,x):\n",
    "        x=F.relu((self.convolution1(x)))\n",
    "        x=F.relu((self.convolution2(x)))\n",
    "        x=F.relu(self.convbatchnorm3(self.convolution3(x)))\n",
    "        x=x.view(-1,1152)\n",
    "        x=F.dropout(x,p=0.45)\n",
    "        x=F.relu(self.fully_connected_1(x))\n",
    "        x=F.dropout(x,p=0.5)\n",
    "        x=self.fully_connected_final(x)\n",
    "        return x\n",
    "##  creating the simple conv model\n",
    "simple_conv_model=simple_convolutional_model(num_classes)\n",
    "### using cuda to use the gpu:\n",
    "device = torch.device(\"cuda:0\" if torch.cuda.is_available() else \"cpu\")\n",
    "### if the output is \"cuda:0\" it means we're using GPU!!!!!\n",
    "print(device)\n",
    "simple_conv_model.to(device)\n",
    "### Setting up the loss criterion and the optimizer\n",
    "simple_conv_optimizer=torch.optim.Adam(simple_conv_model.parameters())\n",
    "simple_conv_criterion=nn.CrossEntropyLoss()\n",
    "'''\n",
    "setting up the training function:\n",
    "\n",
    "'''\n",
    "## function to do the training\n",
    "def training_function(mdl, crit, optim, TrainingDataLoader, TestingDataLoader, epochs=20):\n",
    "  ### Creating empty arrays to save the history of the training \n",
    "  ### and testing losses\n",
    "    history_of_training_losses = np.zeros(epochs)\n",
    "    history_of_testing_losses = np.zeros(epochs)\n",
    "    for epc in range(epochs):\n",
    "        mdl.train()\n",
    "        current_training_loss = []\n",
    "        for x, y in TrainingDataLoader:\n",
    "      ### WE have to do this step to speed up the process\n",
    "      ### basically the data and the model both have to be on the GPU for\n",
    "      ## cuda to work...\n",
    "            x, y = x.to(device), y.to(device)\n",
    "      ## we also have to always empty the gradients, as \n",
    "      ## Pytorch saves the previous ones every time\n",
    "            optim.zero_grad()\n",
    "      ## getting predictions\n",
    "            y_hat = mdl(x)\n",
    "            loss = crit(y_hat, y)\n",
    "      #### Backprop and optimization step\n",
    "            loss.backward()\n",
    "            optim.step()\n",
    "            current_training_loss.append(loss.item())\n",
    "    # Get train loss and test loss\n",
    "        current_training_loss = np.mean(current_training_loss)\n",
    "        mdl.eval()\n",
    "        current_testing_loss = []\n",
    "        for x, y in TestingDataLoader:\n",
    "            x, y = x.to(device), y.to(device)\n",
    "            y_hat = mdl(x)\n",
    "            loss = crit(y_hat,y)\n",
    "            current_testing_loss.append(loss.item())\n",
    "        current_testing_loss = np.mean(current_testing_loss)\n",
    "    ### Keeping track of all of the losses\n",
    "        history_of_training_losses[epc] = current_training_loss\n",
    "        history_of_testing_losses[epc] = current_testing_loss\n",
    "        print('epoch: ',epc+1)\n",
    "    return history_of_training_losses, history_of_testing_losses"
   ]
  },
  {
   "cell_type": "markdown",
   "metadata": {
    "id": "e4U6LMtfJ7Lx"
   },
   "source": [
    "Running the Model, getting the output:\n",
    "Let's train our model for 20 epochs:"
   ]
  },
  {
   "cell_type": "code",
   "execution_count": 7,
   "metadata": {
    "id": "0s_VsDCdIl3V"
   },
   "outputs": [
    {
     "name": "stdout",
     "output_type": "stream",
     "text": [
      "epoch:  1\n",
      "epoch:  2\n",
      "epoch:  3\n",
      "epoch:  4\n",
      "epoch:  5\n",
      "epoch:  6\n",
      "epoch:  7\n",
      "epoch:  8\n",
      "epoch:  9\n",
      "epoch:  10\n",
      "epoch:  11\n",
      "epoch:  12\n",
      "epoch:  13\n",
      "epoch:  14\n",
      "epoch:  15\n",
      "epoch:  16\n",
      "epoch:  17\n",
      "epoch:  18\n",
      "epoch:  19\n",
      "epoch:  20\n"
     ]
    }
   ],
   "source": [
    "TrainHistoryLoss, TestHistoryLoss =training_function(simple_conv_model, simple_conv_criterion, simple_conv_optimizer, training_data_loader, testing_data_loader, epochs=20)"
   ]
  },
  {
   "cell_type": "markdown",
   "metadata": {
    "id": "9MiIyGYeYCiA"
   },
   "source": [
    "Analysis of the Convolutional model:\n",
    "Plotting the losses:"
   ]
  },
  {
   "cell_type": "code",
   "execution_count": 8,
   "metadata": {
    "id": "Ji0yXYJEIp1j"
   },
   "outputs": [
    {
     "data": {
      "text/plain": [
       "<matplotlib.legend.Legend at 0x1e09b212190>"
      ]
     },
     "execution_count": 8,
     "metadata": {},
     "output_type": "execute_result"
    },
    {
     "data": {
      "image/png": "[encoded data removed]",
      "text/plain": [
       "<Figure size 432x288 with 1 Axes>"
      ]
     },
     "metadata": {
      "needs_background": "light"
     },
     "output_type": "display_data"
    }
   ],
   "source": [
    "plt.plot(TrainHistoryLoss,color='b')\n",
    "plt.plot(TestHistoryLoss,color='g')\n",
    "plt.title(\"Cost\\loss Over Epochs\")\n",
    "plt.xlabel(\"Epoch\")\n",
    "plt.ylabel(\"Error\")\n",
    "plt.legend(['train_error','test_error'])"
   ]
  },
  {
   "cell_type": "markdown",
   "metadata": {
    "id": "jPT4YORzjW2e"
   },
   "source": [
    "For the accuracy, I will create a function that will take the model as input and then output the accuracy\n",
    "that way we save time and code when inspecting the ANN model:\n"
   ]
  },
  {
   "cell_type": "code",
   "execution_count": 9,
   "metadata": {},
   "outputs": [
    {
     "name": "stdout",
     "output_type": "stream",
     "text": [
      "Training Accuracy 0.7991 Testing Accuracy 0.6881\n"
     ]
    }
   ],
   "source": [
    "def calculate_model_accuracy(model=simple_conv_model):\n",
    "    ### Accuracy evaluations of our simple convolutional model.\n",
    "    model.eval()\n",
    "    rights,total = 0,0\n",
    "    for x, y in training_data_loader:\n",
    "        x, y = x.to(device), y.to(device)\n",
    "        y_hat = model(x)\n",
    "        z, preds = torch.max(y_hat, 1)\n",
    "        rights += (preds == y).sum().item()\n",
    "        total += y.shape[0]\n",
    "    training_accuracy = rights / total\n",
    "    ### doing the same for the test set...\n",
    "    rights,total=0,0\n",
    "    for x, y in testing_data_loader:\n",
    "        x, y = x.to(device), y.to(device)\n",
    "        y_hat = model(x)\n",
    "        z, preds = torch.max(y_hat, 1)\n",
    "        rights += (preds == y).sum().item()\n",
    "        total += y.shape[0]\n",
    "    testing_accuracy = rights / total\n",
    "    print(\"Training Accuracy\",training_accuracy,\"Testing Accuracy\",testing_accuracy)  \n",
    "    \n",
    "calculate_model_accuracy(simple_conv_model)"
   ]
  },
  {
   "cell_type": "markdown",
   "metadata": {},
   "source": [
    "We can see that the accuracy is pretty decent, better than guessing."
   ]
  },
  {
   "cell_type": "markdown",
   "metadata": {
    "id": "gh41cESDnAKX"
   },
   "source": [
    "Creating a function to create a confusion matrix. By default will work for the Convolutional model\n",
    "if we input the ann model later, it should work.\n"
   ]
  },
  {
   "cell_type": "code",
   "execution_count": 10,
   "metadata": {
    "id": "LbCuKq8CnHIU"
   },
   "outputs": [
    {
     "data": {
      "image/png": "[encoded data removed]",
      "text/plain": [
       "<Figure size 720x504 with 2 Axes>"
      ]
     },
     "metadata": {
      "needs_background": "light"
     },
     "output_type": "display_data"
    }
   ],
   "source": [
    "## Let's use the testing_data_loader in order to create a confusion matrix.\n",
    "### BY DEFAULT THIS WILL WORK FOR THE simple_conv_model, if we enter the ANN model(which we will create later...)\n",
    "#, it will work also.\n",
    "def create_confusion_matrix(X=testing_data.data,Y=np.array(testing_data.targets),model=simple_conv_model,testing_data_loader=testing_data_loader):  \n",
    "    labels=['airplane','automobile','bird','cat','deer','dog','frog','horse','ship','truck']\n",
    "    Y_PRED = np.array([])\n",
    "    for x, y in testing_data_loader:\n",
    "        x,y = x.to(device), y.to(device)\n",
    "        y_hat = model(x)\n",
    "        Z, preds = torch.max(y_hat, 1)\n",
    "        Y_PRED = np.concatenate((Y_PRED, preds.cpu().numpy()))\n",
    "    cm = confusion_matrix(Y, Y_PRED)\n",
    "    df_cm = pd.DataFrame(cm,labels,labels)\n",
    "    plt.figure(figsize=(10,7))\n",
    "    sn.set(font_scale=1)\n",
    "    sn.heatmap(df_cm, annot=True, annot_kws={\"size\": 10},fmt='g')\n",
    "    plt.xlabel('Predicted')\n",
    "    plt.ylabel('Real')\n",
    "    plt.show()\n",
    "###############\n",
    "### Creating the confusion matrix\n",
    "'''\n",
    "USING THE FUNCTION, NOTE THAT NO INPUT IS NEEDED RIGHT NOW,\n",
    "BUT WHEN WE WILL INSPECT THE \n",
    "ANN WE WILL\n",
    "HAVE TO ENTER THE FC MODEL\n",
    "'''\n",
    "create_confusion_matrix()"
   ]
  },
  {
   "cell_type": "markdown",
   "metadata": {
    "id": "JhVTqOTLt5Dk"
   },
   "source": [
    "We can see problems with ship and airplane, automobile and truck, cat and dog, deer and horse, etc. .\n"
   ]
  },
  {
   "cell_type": "markdown",
   "metadata": {
    "id": "YByQEiRKYGbs"
   },
   "source": [
    "#####  The ANN Model:"
   ]
  },
  {
   "cell_type": "markdown",
   "metadata": {
    "id": "hpsHyju4uHnQ"
   },
   "source": [
    "For the simple ann model I will use basically the same code I used for the cnn\n",
    "but this time I will switch the convolutional layers with simple fully connected layers."
   ]
  },
  {
   "cell_type": "code",
   "execution_count": 11,
   "metadata": {
    "id": "nja8oGsMuRQt"
   },
   "outputs": [
    {
     "name": "stdout",
     "output_type": "stream",
     "text": [
      "cuda:0\n",
      "epoch:  1\n",
      "epoch:  2\n",
      "epoch:  3\n",
      "epoch:  4\n",
      "epoch:  5\n",
      "epoch:  6\n",
      "epoch:  7\n",
      "epoch:  8\n",
      "epoch:  9\n",
      "epoch:  10\n",
      "epoch:  11\n",
      "epoch:  12\n",
      "epoch:  13\n",
      "epoch:  14\n",
      "epoch:  15\n",
      "epoch:  16\n",
      "epoch:  17\n",
      "epoch:  18\n",
      "epoch:  19\n",
      "epoch:  20\n"
     ]
    }
   ],
   "source": [
    "class simple_fullyconnected_model(nn.Module):\n",
    "    def __init__(self,num_classes):\n",
    "        super(simple_fullyconnected_model,self).__init__()\n",
    "    ## layers\n",
    "        self.fullyconnected1=nn.Linear(3072,50)\n",
    "        self.fullyconnected2=nn.Linear(50,100)  \n",
    "        self.fullyconnected3=nn.Linear(100,100)\n",
    "        self.connectedbatchnorm3=nn.BatchNorm1d(100)\n",
    "        self.fullyconnected4=nn.Linear(100,50)\n",
    "        self.fully_connected_final=nn.Linear(50,num_classes)\n",
    "    ## FORWARD\n",
    "    def forward(self,x):\n",
    "        x = x.view(x.size(0), -1)\n",
    "        x=F.relu((self.fullyconnected1(x)))\n",
    "        x=F.dropout(x,p=0.1)\n",
    "        x=F.relu((self.fullyconnected2(x)))\n",
    "        x=F.dropout(x,p=0.2)\n",
    "        x=F.relu(self.connectedbatchnorm3(self.fullyconnected3(x)))\n",
    "        x=F.dropout(x,p=0.3)\n",
    "        x=F.relu(self.fullyconnected4(x))\n",
    "        x=F.dropout(x,p=0.4)\n",
    "        x=self.fully_connected_final(x)\n",
    "        return x\n",
    "\n",
    "##  creating the simple fully connected modle\n",
    "simple_fc_model=simple_fullyconnected_model(num_classes)\n",
    "### using cuda to use the gpu:\n",
    "device = torch.device(\"cuda:0\" if torch.cuda.is_available() else \"cpu\")\n",
    "### if the output is \"cuda:0\" it means we're using GPU!!!!!\n",
    "print(device)\n",
    "simple_fc_model.to(device)\n",
    "### Setting up the loss criterion and the optimizer\n",
    "simple_fc_optimizer=torch.optim.Adam(simple_fc_model.parameters())\n",
    "simple_fc_criterion=nn.CrossEntropyLoss()\n",
    "\n",
    "## training the model\n",
    "TrainHistoryLoss, TestHistoryLoss =training_function(simple_fc_model, simple_fc_criterion, simple_fc_optimizer, training_data_loader, testing_data_loader, epochs=20)"
   ]
  },
  {
   "cell_type": "markdown",
   "metadata": {
    "id": "Pw698qIU2aBZ"
   },
   "source": [
    "Analysis of the ANN Model:\n"
   ]
  },
  {
   "cell_type": "code",
   "execution_count": 12,
   "metadata": {
    "id": "CfqXRsBs2b0m"
   },
   "outputs": [
    {
     "data": {
      "text/plain": [
       "<matplotlib.legend.Legend at 0x1e099417490>"
      ]
     },
     "execution_count": 12,
     "metadata": {},
     "output_type": "execute_result"
    },
    {
     "data": {
      "image/png": "[encoded data removed]",
      "text/plain": [
       "<Figure size 432x288 with 1 Axes>"
      ]
     },
     "metadata": {},
     "output_type": "display_data"
    }
   ],
   "source": [
    "plt.plot(TrainHistoryLoss,color='b')\n",
    "plt.plot(TestHistoryLoss,color='g')\n",
    "plt.title(\"Cost\\loss Over Epochs\")\n",
    "plt.xlabel(\"Epoch\")\n",
    "plt.ylabel(\"Error\")\n",
    "plt.legend(['train_error','test_error'])"
   ]
  },
  {
   "cell_type": "markdown",
   "metadata": {},
   "source": [
    "Let's get the ANN Model accuracies:"
   ]
  },
  {
   "cell_type": "code",
   "execution_count": 13,
   "metadata": {},
   "outputs": [
    {
     "name": "stdout",
     "output_type": "stream",
     "text": [
      "Training Accuracy 0.40632 Testing Accuracy 0.3956\n"
     ]
    }
   ],
   "source": [
    "calculate_model_accuracy(simple_fc_model)"
   ]
  },
  {
   "cell_type": "markdown",
   "metadata": {
    "id": "MOP09rex5ERR"
   },
   "source": [
    "Horrible accuracies when compared to the CNN model.\n"
   ]
  },
  {
   "cell_type": "markdown",
   "metadata": {
    "id": "mxeLHm015Lsl"
   },
   "source": [
    "Confusion Matrix:"
   ]
  },
  {
   "cell_type": "code",
   "execution_count": 14,
   "metadata": {
    "id": "H6WzrAdj5Mjf"
   },
   "outputs": [
    {
     "data": {
      "image/png": "[encoded data removed]",
      "text/plain": [
       "<Figure size 720x504 with 2 Axes>"
      ]
     },
     "metadata": {},
     "output_type": "display_data"
    }
   ],
   "source": [
    "create_confusion_matrix(model=simple_fc_model)"
   ]
  },
  {
   "cell_type": "markdown",
   "metadata": {
    "id": "31qcCUrc5c-k"
   },
   "source": [
    "we can see that its pretty bad.  by seeing that this matrix is more \"colorful\" than the cnn's matrix, we can conclude again that this model is doing a pretty bad job.\n",
    "we can see that the model has a really bad time with airplanes and ships, automobiles and trucks, automobiles and ships, dogs and ships, cats and ships, birds and airplanes... etc... etc...\n",
    "In conclusion, from this simple experiemnt it is easy to see that Convolutional layers are very effective when using image data"
   ]
  }
 ],
 "metadata": {
  "accelerator": "GPU",
  "colab": {
   "collapsed_sections": [],
   "name": "Deep_Learning_Question1_complete.ipynb",
   "provenance": []
  },
  "kernelspec": {
   "display_name": "Python 3 (ipykernel)",
   "language": "python",
   "name": "python3"
  },
  "language_info": {
   "codemirror_mode": {
    "name": "ipython",
    "version": 3
   },
   "file_extension": ".py",
   "mimetype": "text/x-python",
   "name": "python",
   "nbconvert_exporter": "python",
   "pygments_lexer": "ipython3",
   "version": "3.9.7"
  },
  "widgets": {
   "application/vnd.jupyter.widget-state+json": {
    "06b74d92fbb34a67b7b5cbcbd5a1b65e": {
     "model_module": "@jupyter-widgets/controls",
     "model_module_version": "1.5.0",
     "model_name": "FloatProgressModel",
     "state": {
      "_dom_classes": [],
      "_model_module": "@jupyter-widgets/controls",
      "_model_module_version": "1.5.0",
      "_model_name": "FloatProgressModel",
      "_view_count": null,
      "_view_module": "@jupyter-widgets/controls",
      "_view_module_version": "1.5.0",
      "_view_name": "ProgressView",
      "bar_style": "success",
      "description": "",
      "description_tooltip": null,
      "layout": "IPY_MODEL_3aa9dd280f4a4fb5ba4a58649ac7fe62",
      "max": 170498071,
      "min": 0,
      "orientation": "horizontal",
      "style": "IPY_MODEL_e17c7a65d4b943d4a6899bd618216d57",
      "value": 170498071
     }
    },
    "250a1d6a70f04e9a9683ac29e495cf99": {
     "model_module": "@jupyter-widgets/controls",
     "model_module_version": "1.5.0",
     "model_name": "DescriptionStyleModel",
     "state": {
      "_model_module": "@jupyter-widgets/controls",
      "_model_module_version": "1.5.0",
      "_model_name": "DescriptionStyleModel",
      "_view_count": null,
      "_view_module": "@jupyter-widgets/base",
      "_view_module_version": "1.2.0",
      "_view_name": "StyleView",
      "description_width": ""
     }
    },
    "288d4cf937f64db299652fe56202c8aa": {
     "model_module": "@jupyter-widgets/base",
     "model_module_version": "1.2.0",
     "model_name": "LayoutModel",
     "state": {
      "_model_module": "@jupyter-widgets/base",
      "_model_module_version": "1.2.0",
      "_model_name": "LayoutModel",
      "_view_count": null,
      "_view_module": "@jupyter-widgets/base",
      "_view_module_version": "1.2.0",
      "_view_name": "LayoutView",
      "align_content": null,
      "align_items": null,
      "align_self": null,
      "border": null,
      "bottom": null,
      "display": null,
      "flex": null,
      "flex_flow": null,
      "grid_area": null,
      "grid_auto_columns": null,
      "grid_auto_flow": null,
      "grid_auto_rows": null,
      "grid_column": null,
      "grid_gap": null,
      "grid_row": null,
      "grid_template_areas": null,
      "grid_template_columns": null,
      "grid_template_rows": null,
      "height": null,
      "justify_content": null,
      "justify_items": null,
      "left": null,
      "margin": null,
      "max_height": null,
      "max_width": null,
      "min_height": null,
      "min_width": null,
      "object_fit": null,
      "object_position": null,
      "order": null,
      "overflow": null,
      "overflow_x": null,
      "overflow_y": null,
      "padding": null,
      "right": null,
      "top": null,
      "visibility": null,
      "width": null
     }
    },
    "3aa9dd280f4a4fb5ba4a58649ac7fe62": {
     "model_module": "@jupyter-widgets/base",
     "model_module_version": "1.2.0",
     "model_name": "LayoutModel",
     "state": {
      "_model_module": "@jupyter-widgets/base",
      "_model_module_version": "1.2.0",
      "_model_name": "LayoutModel",
      "_view_count": null,
      "_view_module": "@jupyter-widgets/base",
      "_view_module_version": "1.2.0",
      "_view_name": "LayoutView",
      "align_content": null,
      "align_items": null,
      "align_self": null,
      "border": null,
      "bottom": null,
      "display": null,
      "flex": null,
      "flex_flow": null,
      "grid_area": null,
      "grid_auto_columns": null,
      "grid_auto_flow": null,
      "grid_auto_rows": null,
      "grid_column": null,
      "grid_gap": null,
      "grid_row": null,
      "grid_template_areas": null,
      "grid_template_columns": null,
      "grid_template_rows": null,
      "height": null,
      "justify_content": null,
      "justify_items": null,
      "left": null,
      "margin": null,
      "max_height": null,
      "max_width": null,
      "min_height": null,
      "min_width": null,
      "object_fit": null,
      "object_position": null,
      "order": null,
      "overflow": null,
      "overflow_x": null,
      "overflow_y": null,
      "padding": null,
      "right": null,
      "top": null,
      "visibility": null,
      "width": null
     }
    },
    "3fad824dd5104ade81db74526bcd3c5c": {
     "model_module": "@jupyter-widgets/controls",
     "model_module_version": "1.5.0",
     "model_name": "DescriptionStyleModel",
     "state": {
      "_model_module": "@jupyter-widgets/controls",
      "_model_module_version": "1.5.0",
      "_model_name": "DescriptionStyleModel",
      "_view_count": null,
      "_view_module": "@jupyter-widgets/base",
      "_view_module_version": "1.2.0",
      "_view_name": "StyleView",
      "description_width": ""
     }
    },
    "99d8b0d8ca5e475594a2c596a3c57634": {
     "model_module": "@jupyter-widgets/base",
     "model_module_version": "1.2.0",
     "model_name": "LayoutModel",
     "state": {
      "_model_module": "@jupyter-widgets/base",
      "_model_module_version": "1.2.0",
      "_model_name": "LayoutModel",
      "_view_count": null,
      "_view_module": "@jupyter-widgets/base",
      "_view_module_version": "1.2.0",
      "_view_name": "LayoutView",
      "align_content": null,
      "align_items": null,
      "align_self": null,
      "border": null,
      "bottom": null,
      "display": null,
      "flex": null,
      "flex_flow": null,
      "grid_area": null,
      "grid_auto_columns": null,
      "grid_auto_flow": null,
      "grid_auto_rows": null,
      "grid_column": null,
      "grid_gap": null,
      "grid_row": null,
      "grid_template_areas": null,
      "grid_template_columns": null,
      "grid_template_rows": null,
      "height": null,
      "justify_content": null,
      "justify_items": null,
      "left": null,
      "margin": null,
      "max_height": null,
      "max_width": null,
      "min_height": null,
      "min_width": null,
      "object_fit": null,
      "object_position": null,
      "order": null,
      "overflow": null,
      "overflow_x": null,
      "overflow_y": null,
      "padding": null,
      "right": null,
      "top": null,
      "visibility": null,
      "width": null
     }
    },
    "ba44100949ef4e7b97ccdbd9a28d3925": {
     "model_module": "@jupyter-widgets/controls",
     "model_module_version": "1.5.0",
     "model_name": "HTMLModel",
     "state": {
      "_dom_classes": [],
      "_model_module": "@jupyter-widgets/controls",
      "_model_module_version": "1.5.0",
      "_model_name": "HTMLModel",
      "_view_count": null,
      "_view_module": "@jupyter-widgets/controls",
      "_view_module_version": "1.5.0",
      "_view_name": "HTMLView",
      "description": "",
      "description_tooltip": null,
      "layout": "IPY_MODEL_ee6b8eae86c64916be4da43d83332868",
      "placeholder": "​",
      "style": "IPY_MODEL_250a1d6a70f04e9a9683ac29e495cf99",
      "value": ""
     }
    },
    "caa877dae470489785393b14cc873fa9": {
     "model_module": "@jupyter-widgets/controls",
     "model_module_version": "1.5.0",
     "model_name": "HTMLModel",
     "state": {
      "_dom_classes": [],
      "_model_module": "@jupyter-widgets/controls",
      "_model_module_version": "1.5.0",
      "_model_name": "HTMLModel",
      "_view_count": null,
      "_view_module": "@jupyter-widgets/controls",
      "_view_module_version": "1.5.0",
      "_view_name": "HTMLView",
      "description": "",
      "description_tooltip": null,
      "layout": "IPY_MODEL_99d8b0d8ca5e475594a2c596a3c57634",
      "placeholder": "​",
      "style": "IPY_MODEL_3fad824dd5104ade81db74526bcd3c5c",
      "value": " 170499072/? [00:03&lt;00:00, 51422066.94it/s]"
     }
    },
    "d70f60e8c4e24810a0b56b345d5dbe0a": {
     "model_module": "@jupyter-widgets/controls",
     "model_module_version": "1.5.0",
     "model_name": "HBoxModel",
     "state": {
      "_dom_classes": [],
      "_model_module": "@jupyter-widgets/controls",
      "_model_module_version": "1.5.0",
      "_model_name": "HBoxModel",
      "_view_count": null,
      "_view_module": "@jupyter-widgets/controls",
      "_view_module_version": "1.5.0",
      "_view_name": "HBoxView",
      "box_style": "",
      "children": [
       "IPY_MODEL_ba44100949ef4e7b97ccdbd9a28d3925",
       "IPY_MODEL_06b74d92fbb34a67b7b5cbcbd5a1b65e",
       "IPY_MODEL_caa877dae470489785393b14cc873fa9"
      ],
      "layout": "IPY_MODEL_288d4cf937f64db299652fe56202c8aa"
     }
    },
    "e17c7a65d4b943d4a6899bd618216d57": {
     "model_module": "@jupyter-widgets/controls",
     "model_module_version": "1.5.0",
     "model_name": "ProgressStyleModel",
     "state": {
      "_model_module": "@jupyter-widgets/controls",
      "_model_module_version": "1.5.0",
      "_model_name": "ProgressStyleModel",
      "_view_count": null,
      "_view_module": "@jupyter-widgets/base",
      "_view_module_version": "1.2.0",
      "_view_name": "StyleView",
      "bar_color": null,
      "description_width": ""
     }
    },
    "ee6b8eae86c64916be4da43d83332868": {
     "model_module": "@jupyter-widgets/base",
     "model_module_version": "1.2.0",
     "model_name": "LayoutModel",
     "state": {
      "_model_module": "@jupyter-widgets/base",
      "_model_module_version": "1.2.0",
      "_model_name": "LayoutModel",
      "_view_count": null,
      "_view_module": "@jupyter-widgets/base",
      "_view_module_version": "1.2.0",
      "_view_name": "LayoutView",
      "align_content": null,
      "align_items": null,
      "align_self": null,
      "border": null,
      "bottom": null,
      "display": null,
      "flex": null,
      "flex_flow": null,
      "grid_area": null,
      "grid_auto_columns": null,
      "grid_auto_flow": null,
      "grid_auto_rows": null,
      "grid_column": null,
      "grid_gap": null,
      "grid_row": null,
      "grid_template_areas": null,
      "grid_template_columns": null,
      "grid_template_rows": null,
      "height": null,
      "justify_content": null,
      "justify_items": null,
      "left": null,
      "margin": null,
      "max_height": null,
      "max_width": null,
      "min_height": null,
      "min_width": null,
      "object_fit": null,
      "object_position": null,
      "order": null,
      "overflow": null,
      "overflow_x": null,
      "overflow_y": null,
      "padding": null,
      "right": null,
      "top": null,
      "visibility": null,
      "width": null
     }
    }
   }
  }
 },
 "nbformat": 4,
 "nbformat_minor": 1
}
